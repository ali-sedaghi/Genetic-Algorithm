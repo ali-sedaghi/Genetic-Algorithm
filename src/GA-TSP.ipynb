{
 "cells": [
  {
   "cell_type": "markdown",
   "source": [
    "## Imports"
   ],
   "metadata": {
    "collapsed": false,
    "pycharm": {
     "name": "#%% md\n"
    }
   }
  },
  {
   "cell_type": "code",
   "execution_count": 1,
   "metadata": {
    "collapsed": true,
    "pycharm": {
     "name": "#%%\n"
    }
   },
   "outputs": [],
   "source": [
    "import random\n",
    "import numpy\n",
    "import matplotlib.pyplot as plt"
   ]
  },
  {
   "cell_type": "markdown",
   "source": [
    "## Genetic Algorithm Class"
   ],
   "metadata": {
    "collapsed": false,
    "pycharm": {
     "name": "#%% md\n"
    }
   }
  },
  {
   "cell_type": "code",
   "execution_count": 2,
   "outputs": [],
   "source": [
    "class GeneticTSP:\n",
    "  def __init__(self, generations, population_size,\n",
    "               elitist_rate, mutation_rate):\n",
    "    self.cities = set()\n",
    "    self.paths = []\n",
    "    self.population = []\n",
    "    self.population_size = population_size\n",
    "    self.elitist_rate = elitist_rate\n",
    "    self.generations = generations\n",
    "    self.mutation_rate = mutation_rate\n",
    "\n",
    "  def add_path(self, city1, city2, distance):\n",
    "    self.cities.add(city1)\n",
    "    self.cities.add(city2)\n",
    "    self.paths.append(({city1, city2}, distance))\n",
    "\n",
    "  def create_chromosome(self):\n",
    "    chromosome = list(self.cities)\n",
    "    random.shuffle(chromosome)\n",
    "    return chromosome\n",
    "\n",
    "  def create_population(self):\n",
    "    for _ in range(self.population_size):\n",
    "      chromosome = self.create_chromosome()\n",
    "      self.population.append(chromosome)\n",
    "\n",
    "  def distance(self, src, dst):\n",
    "    for path, distance in self.paths:\n",
    "      if src in path and dst in path:\n",
    "        return distance\n",
    "    return float(50)\n",
    "\n",
    "  def route_distance(self, chromosome):\n",
    "    size = len(chromosome)\n",
    "    total_distance = 0\n",
    "    for i in range(size):\n",
    "      src = chromosome[i]\n",
    "      dst = chromosome[i + 1] if (i + 1 != size) else chromosome[0]\n",
    "      distance = self.distance(src, dst)\n",
    "      total_distance += distance\n",
    "    return total_distance\n",
    "\n",
    "  def fitness(self, chromosome):\n",
    "    route_distance = self.route_distance(chromosome)\n",
    "    return float (1 / route_distance)\n",
    "\n",
    "  @staticmethod\n",
    "  def crossover(parent1, parent2):\n",
    "    size = len(parent1)\n",
    "    child_part1 = []\n",
    "    cross1 = int(random.random() * size)\n",
    "    cross2 = int(random.random() * size)\n",
    "    start = min(cross1, cross2)\n",
    "    end = max(cross1, cross2)\n",
    "    for i in range(start, end):\n",
    "      child_part1.append(parent1[i])\n",
    "    child_part2 = [item for item in parent2 if item not in child_part1]\n",
    "    child = child_part1 + child_part2\n",
    "    return child\n",
    "\n",
    "  def mutate(self, chromosome):\n",
    "    size = len(chromosome)\n",
    "    new = chromosome\n",
    "    for i in range(size):\n",
    "      if random.random() < self.mutation_rate:\n",
    "        j = int (random.random() * size)\n",
    "        city1 = chromosome[i]\n",
    "        city2 = chromosome[j]\n",
    "        new[i] = city2\n",
    "        new[j] = city1\n",
    "    return new\n",
    "\n",
    "  def ranked_population(self):\n",
    "    return sorted(self.population,\n",
    "                  key=lambda x: self.fitness(x),\n",
    "                  reverse=True)\n",
    "\n",
    "  def create_pool(self, ranked_pop):\n",
    "    pool = []\n",
    "    pop_size = len(ranked_pop)\n",
    "    elitist_size = int (pop_size * self.elitist_rate)\n",
    "    remain_size = pop_size - elitist_size\n",
    "\n",
    "    for i in range(elitist_size):\n",
    "      pool.append(ranked_pop[i])\n",
    "\n",
    "    fits = [self.fitness(e) for e in ranked_pop]\n",
    "    sum_fits = sum(fits)\n",
    "    norm_fits = [e / sum_fits for e in fits]\n",
    "\n",
    "    for i in range(remain_size):\n",
    "      pick = random.random()\n",
    "      for j in range(pop_size):\n",
    "        if pick >= norm_fits[j]:\n",
    "          pool.append(ranked_pop[j])\n",
    "          break\n",
    "      if pick < norm_fits[pop_size - 1]:\n",
    "        pool.append(ranked_pop[pop_size - 1])\n",
    "\n",
    "    return pool\n",
    "\n",
    "  def crossover_pool(self, pool):\n",
    "    new_pop = []\n",
    "    pop_size = len(pool)\n",
    "    elitist_size = int (pop_size * self.elitist_rate)\n",
    "    remain_size = pop_size - elitist_size\n",
    "\n",
    "    for i in range(elitist_size):\n",
    "      new_pop.append(pool[i])\n",
    "\n",
    "    for i in range(remain_size):\n",
    "      parent1 = random.choice(pool)\n",
    "      parent2 = random.choice(pool)\n",
    "      child = self.crossover(parent1, parent2)\n",
    "      new_pop.append(child)\n",
    "\n",
    "    return new_pop\n",
    "\n",
    "  def mutate_pool(self, pool):\n",
    "    new_pop = []\n",
    "    for i in range(len(pool)):\n",
    "      mutated = self.mutate(pool[i])\n",
    "      new_pop.append(mutated)\n",
    "    return new_pop\n",
    "\n",
    "  def set_population(self, new_pop):\n",
    "    self.population = new_pop\n",
    "\n",
    "  def next_generation(self):\n",
    "    ranked_pop = self.ranked_population()\n",
    "    pool = self.create_pool(ranked_pop)\n",
    "    crossovered_pool = self.crossover_pool(pool)\n",
    "    mutated_pool = self.mutate_pool(crossovered_pool)\n",
    "    self.set_population(mutated_pool)\n",
    "\n",
    "    # returned before new generation\n",
    "    best_chromosome = ranked_pop[0]\n",
    "    avg_fitness = sum([self.fitness(e) for e in ranked_pop]) / len(ranked_pop)\n",
    "    return best_chromosome, avg_fitness\n",
    "\n",
    "  def run(self):\n",
    "    self.create_population()\n",
    "    best_chromosomes = []\n",
    "    avg_fitness = []\n",
    "    for i in range(self.generations):\n",
    "      best, avg = self.next_generation()\n",
    "      best_chromosomes.append(best)\n",
    "      avg_fitness.append(avg)\n",
    "      self.print_log(i, avg, best, self.route_distance(best), self.fitness(best))\n",
    "\n",
    "    ranked_pop = self.ranked_population()\n",
    "    best = ranked_pop[0]\n",
    "    avg = sum([self.fitness(e) for e in ranked_pop]) / len(ranked_pop)\n",
    "    best_chromosomes.append(best)\n",
    "    avg_fitness.append(avg)\n",
    "    self.print_log(self.generations, avg, best, self.route_distance(best), self.fitness(best))\n",
    "\n",
    "    return best_chromosomes, avg_fitness\n",
    "\n",
    "  @staticmethod\n",
    "  def print_log(i, avg, best, best_dist, best_fit):\n",
    "    print('Generation:', i)\n",
    "    print('Average Fitness:', avg)\n",
    "    print('Best Chromosomes:', best)\n",
    "    print('Total Distance:', best_dist)\n",
    "    print('Fitness:', best_fit)\n",
    "    print('----------------')"
   ],
   "metadata": {
    "collapsed": false,
    "pycharm": {
     "name": "#%%\n"
    }
   }
  },
  {
   "cell_type": "markdown",
   "source": [
    "## Hyperparams"
   ],
   "metadata": {
    "collapsed": false,
    "pycharm": {
     "name": "#%% md\n"
    }
   }
  },
  {
   "cell_type": "code",
   "execution_count": 3,
   "outputs": [],
   "source": [
    "POPULATION_SIZE = 100\n",
    "ELITIST_RATE = 0.2\n",
    "GENERATIONS = 10\n",
    "MUTATION_RATE = 0.1"
   ],
   "metadata": {
    "collapsed": false,
    "pycharm": {
     "name": "#%%\n"
    }
   }
  },
  {
   "cell_type": "markdown",
   "source": [
    "## Init TSP"
   ],
   "metadata": {
    "collapsed": false,
    "pycharm": {
     "name": "#%% md\n"
    }
   }
  },
  {
   "cell_type": "code",
   "execution_count": 4,
   "outputs": [],
   "source": [
    "temp = GeneticTSP(GENERATIONS, POPULATION_SIZE, ELITIST_RATE, MUTATION_RATE)\n",
    "temp.add_path('1', '2', 12)\n",
    "temp.add_path('1', '3', 10)\n",
    "temp.add_path('1', '7', 12)\n",
    "temp.add_path('2', '3', 8)\n",
    "temp.add_path('2', '4', 12)\n",
    "temp.add_path('3', '4', 11)\n",
    "temp.add_path('3', '5', 3)\n",
    "temp.add_path('3', '7', 9)\n",
    "temp.add_path('4', '5', 11)\n",
    "temp.add_path('4', '6', 10)\n",
    "temp.add_path('5', '6', 6)\n",
    "temp.add_path('5', '7', 7)\n",
    "temp.add_path('6', '7', 9)"
   ],
   "metadata": {
    "collapsed": false,
    "pycharm": {
     "name": "#%%\n"
    }
   }
  },
  {
   "cell_type": "markdown",
   "source": [
    "## Train"
   ],
   "metadata": {
    "collapsed": false,
    "pycharm": {
     "name": "#%% md\n"
    }
   }
  },
  {
   "cell_type": "code",
   "execution_count": 5,
   "outputs": [
    {
     "name": "stdout",
     "output_type": "stream",
     "text": [
      "Generation: 0\n",
      "Average Fitness: 0.005893348752990513\n",
      "Best Chromosomes: ['6', '7', '5', '4', '2', '1', '3']\n",
      "Total Distance: 111.0\n",
      "Fitness: 0.009009009009009009\n",
      "----------------\n",
      "Generation: 1\n",
      "Average Fitness: 0.008851819103588206\n",
      "Best Chromosomes: ['5', '7', '6', '4', '2', '1', '3']\n",
      "Total Distance: 63\n",
      "Fitness: 0.015873015873015872\n",
      "----------------\n",
      "Generation: 2\n",
      "Average Fitness: 0.010004555567429822\n",
      "Best Chromosomes: ['5', '7', '6', '4', '2', '1', '3']\n",
      "Total Distance: 63\n",
      "Fitness: 0.015873015873015872\n",
      "----------------\n",
      "Generation: 3\n",
      "Average Fitness: 0.009327475724037596\n",
      "Best Chromosomes: ['5', '7', '6', '4', '2', '1', '3']\n",
      "Total Distance: 63\n",
      "Fitness: 0.015873015873015872\n",
      "----------------\n",
      "Generation: 4\n",
      "Average Fitness: 0.009081232574667976\n",
      "Best Chromosomes: ['5', '7', '4', '1', '2', '6', '3']\n",
      "Total Distance: 222.0\n",
      "Fitness: 0.0045045045045045045\n",
      "----------------\n",
      "Generation: 5\n",
      "Average Fitness: 0.008812824459884216\n",
      "Best Chromosomes: ['5', '7', '2', '4', '6', '1', '3']\n",
      "Total Distance: 142.0\n",
      "Fitness: 0.007042253521126761\n",
      "----------------\n",
      "Generation: 6\n",
      "Average Fitness: 0.00924745629457464\n",
      "Best Chromosomes: ['5', '7', '6', '4', '2', '1', '3']\n",
      "Total Distance: 63\n",
      "Fitness: 0.015873015873015872\n",
      "----------------\n",
      "Generation: 7\n",
      "Average Fitness: 0.009526643149430927\n",
      "Best Chromosomes: ['5', '7', '6', '4', '3', '1', '2']\n",
      "Total Distance: 109.0\n",
      "Fitness: 0.009174311926605505\n",
      "----------------\n",
      "Generation: 8\n",
      "Average Fitness: 0.009525183271087995\n",
      "Best Chromosomes: ['5', '7', '1', '4', '2', '6', '3']\n",
      "Total Distance: 184.0\n",
      "Fitness: 0.005434782608695652\n",
      "----------------\n",
      "Generation: 9\n",
      "Average Fitness: 0.00908772728383334\n",
      "Best Chromosomes: ['5', '7', '6', '4', '3', '1', '2']\n",
      "Total Distance: 109.0\n",
      "Fitness: 0.009174311926605505\n",
      "----------------\n",
      "Generation: 10\n",
      "Average Fitness: 0.010522666874249964\n",
      "Best Chromosomes: ['3', '5', '7', '6', '4', '2', '1']\n",
      "Total Distance: 63\n",
      "Fitness: 0.015873015873015872\n",
      "----------------\n"
     ]
    }
   ],
   "source": [
    "bests, avg_fitness = temp.run()\n",
    "bests_fitness = numpy.array([temp.fitness(e) for e in bests])"
   ],
   "metadata": {
    "collapsed": false,
    "pycharm": {
     "name": "#%%\n"
    }
   }
  },
  {
   "cell_type": "markdown",
   "source": [
    "## Results"
   ],
   "metadata": {
    "collapsed": false,
    "pycharm": {
     "name": "#%% md\n"
    }
   }
  },
  {
   "cell_type": "code",
   "execution_count": 6,
   "outputs": [
    {
     "data": {
      "text/plain": "Text(0.5, 23.52222222222222, 'Generation')"
     },
     "execution_count": 6,
     "metadata": {},
     "output_type": "execute_result"
    },
    {
     "data": {
      "text/plain": "<Figure size 640x480 with 2 Axes>",
      "image/png": "[encoded data removed]"
     },
     "metadata": {},
     "output_type": "display_data"
    }
   ],
   "source": [
    "fig, (ax1, ax2) = plt.subplots(1, 2)\n",
    "fig.tight_layout(w_pad=5)\n",
    "\n",
    "ax1.plot(avg_fitness)\n",
    "ax1.set_ylabel('Average Fitness')\n",
    "ax1.set_xlabel('Generation')\n",
    "\n",
    "ax2.plot(bests_fitness)\n",
    "ax2.set_ylabel('Best Fitness')\n",
    "ax2.set_xlabel('Generation')"
   ],
   "metadata": {
    "collapsed": false,
    "pycharm": {
     "name": "#%%\n"
    }
   }
  }
 ],
 "metadata": {
  "kernelspec": {
   "display_name": "Python 3",
   "language": "python",
   "name": "python3"
  },
  "language_info": {
   "codemirror_mode": {
    "name": "ipython",
    "version": 2
   },
   "file_extension": ".py",
   "mimetype": "text/x-python",
   "name": "python",
   "nbconvert_exporter": "python",
   "pygments_lexer": "ipython2",
   "version": "2.7.6"
  }
 },
 "nbformat": 4,
 "nbformat_minor": 0
}